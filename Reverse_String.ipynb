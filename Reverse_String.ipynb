{
 "cells": [
  {
   "cell_type": "code",
   "execution_count": 6,
   "metadata": {
    "scrolled": true
   },
   "outputs": [
    {
     "name": "stdout",
     "output_type": "stream",
     "text": [
      "what is your first name ?rajini\n",
      "what is your last name ?bhaskarla\n",
      "inijar alraksahb\n"
     ]
    }
   ],
   "source": [
    "first_name=input(\"what is your first name ?\")\n",
    "last_name=input(\"what is your last name ?\")\n",
    "\n",
    "\n",
    "def reverse(name):\n",
    "    rev_name=\"\"\n",
    "    for i in name:\n",
    "        rev_name=i+rev_name\n",
    "        \n",
    "    return rev_name\n",
    "\n",
    "print(reverse(first_name),reverse(last_name))\n",
    "\n"
   ]
  },
  {
   "cell_type": "code",
   "execution_count": 8,
   "metadata": {},
   "outputs": [
    {
     "data": {
      "text/plain": [
       "('alraksahb', 'inijar')"
      ]
     },
     "execution_count": 8,
     "metadata": {},
     "output_type": "execute_result"
    }
   ],
   "source": [
    " last_name[::-1],first_name[::-1]\n"
   ]
  },
  {
   "cell_type": "code",
   "execution_count": null,
   "metadata": {},
   "outputs": [],
   "source": []
  }
 ],
 "metadata": {
  "kernelspec": {
   "display_name": "Python 3",
   "language": "python",
   "name": "python3"
  },
  "language_info": {
   "codemirror_mode": {
    "name": "ipython",
    "version": 3
   },
   "file_extension": ".py",
   "mimetype": "text/x-python",
   "name": "python",
   "nbconvert_exporter": "python",
   "pygments_lexer": "ipython3",
   "version": "3.6.5"
  }
 },
 "nbformat": 4,
 "nbformat_minor": 2
}
